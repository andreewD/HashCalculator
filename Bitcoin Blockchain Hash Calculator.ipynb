{
 "cells": [
  {
   "cell_type": "code",
   "execution_count": 1,
   "metadata": {},
   "outputs": [],
   "source": [
    "import binascii\n",
    "from binascii import unhexlify, hexlify\n",
    "import hashlib"
   ]
  },
  {
   "cell_type": "code",
   "execution_count": 2,
   "metadata": {},
   "outputs": [],
   "source": [
    "#Big endian to littleHex endian\n",
    "def littleHex(string):\n",
    "    return binascii.hexlify(binascii.unhexlify(string)[::-1])"
   ]
  },
  {
   "cell_type": "code",
   "execution_count": 3,
   "metadata": {},
   "outputs": [],
   "source": [
    "#ver=hex(int(\"0x1\",16))\n",
    "#timestamp=hex(int(\"1306002391\",16))\n",
    "#bits=hex(int(\"387294044\",16))"
   ]
  },
  {
   "cell_type": "code",
   "execution_count": 4,
   "metadata": {},
   "outputs": [],
   "source": [
    "#BlockInfo(Have to be in hex)\n",
    "ver=\"20000000\"\n",
    "prev_block=\"00000000000000000003ecd827f336c6971f6f77a0b9fba362398dd867975645\"\n",
    "merkle_root=\"66b7c4a1926b41ceb2e617ddae0067e7bfea42db502017fde5b695a50384ed26\"\n",
    "timestamp=\"5DAA5305\"\n",
    "bits=\"1715A35C\"\n",
    "nonce=1066642855 \n",
    "nonce=hex(int(0x100000000)+nonce)[-8:]"
   ]
  },
  {
   "cell_type": "code",
   "execution_count": 5,
   "metadata": {},
   "outputs": [],
   "source": [
    "ver=littleHex(ver)\n",
    "prev_block=littleHex(prev_block)\n",
    "merkle_root=littleHex(merkle_root)\n",
    "timestamp=littleHex(timestamp)\n",
    "bits=littleHex(bits)\n",
    "nonce=littleHex(nonce)"
   ]
  },
  {
   "cell_type": "code",
   "execution_count": 6,
   "metadata": {},
   "outputs": [],
   "source": [
    "header=ver+prev_block+merkle_root+timestamp+bits+nonce"
   ]
  },
  {
   "cell_type": "code",
   "execution_count": 8,
   "metadata": {},
   "outputs": [],
   "source": [
    "header=binascii.unhexlify(header)\n",
    "hash=hashlib.sha256(hashlib.sha256(header).digest()).digest()"
   ]
  },
  {
   "cell_type": "code",
   "execution_count": 9,
   "metadata": {},
   "outputs": [],
   "source": [
    "hash = binascii.hexlify(hash)"
   ]
  },
  {
   "cell_type": "code",
   "execution_count": 10,
   "metadata": {},
   "outputs": [],
   "source": [
    "hash = binascii.hexlify(binascii.unhexlify(hash)[::-1])"
   ]
  },
  {
   "cell_type": "code",
   "execution_count": 11,
   "metadata": {},
   "outputs": [
    {
     "data": {
      "text/plain": [
       "b'00000000000000000007316856900e76b4f7a9139cfbfba89842c8d196cd5f91'"
      ]
     },
     "execution_count": 11,
     "metadata": {},
     "output_type": "execute_result"
    }
   ],
   "source": [
    "#Final hash\n",
    "hash"
   ]
  },
  {
   "cell_type": "code",
   "execution_count": null,
   "metadata": {},
   "outputs": [],
   "source": []
  }
 ],
 "metadata": {
  "kernelspec": {
   "display_name": "Python 3",
   "language": "python",
   "name": "python3"
  },
  "language_info": {
   "codemirror_mode": {
    "name": "ipython",
    "version": 3
   },
   "file_extension": ".py",
   "mimetype": "text/x-python",
   "name": "python",
   "nbconvert_exporter": "python",
   "pygments_lexer": "ipython3",
   "version": "3.8.3"
  }
 },
 "nbformat": 4,
 "nbformat_minor": 4
}
